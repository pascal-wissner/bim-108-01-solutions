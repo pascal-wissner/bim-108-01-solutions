{
 "cells": [
  {
   "cell_type": "markdown",
   "metadata": {
    "deletable": false
   },
   "source": [
    "# XPath\n",
    "\n",
    "XPath ist eine Sprache zur Verarbeitung von XML Dokumenten. Man kann damit auf Teile eines XML Dokuments zugreifen, durch Elemente und Attribute navigieren, Elemente und Inhalte selektieren, wie auch einfache Operationen auf Inhalten durchführen. In dieser Übung lernen wir XPath anhand praktischen Beispiele besser kennen."
   ]
  },
  {
   "cell_type": "markdown",
   "metadata": {
    "deletable": false
   },
   "source": [
    "Schauen Sie sich die folgenden Beispiele an. \n",
    "\n",
    "Dort wo `# Erklärung:` steht, schreiben Sie Ihre Erklärung für das Resultat."
   ]
  },
  {
   "cell_type": "code",
   "execution_count": 1,
   "metadata": {
    "deletable": false
   },
   "outputs": [],
   "source": [
    "from lxml import etree as et\n",
    "\n",
    "doc = et.fromstring(\"\"\"\n",
    "<discography>\n",
    "  <albums>\n",
    "    <album>\n",
    "      <!-- The 26th best-selling album of all time -->\n",
    "      <title released=\"1973\">The Dark Side of the Moon</title>\n",
    "      <label>Harvest, EMI</label>\n",
    "      <released>\n",
    "        <day>16</day>\n",
    "        <month>03</month>\n",
    "        <year>1973</year>\n",
    "      </released>\n",
    "    </album>\n",
    "    <album>\n",
    "      <!-- The 5th best-selling album of all time -->\n",
    "      <title released=\"1979\">The Wall</title>\n",
    "      <label>Harvest, EMI</label>\n",
    "      <released>\n",
    "        <day>30</day>\n",
    "        <month>11</month>\n",
    "        <year>1979</year> \n",
    "      </released>\n",
    "    </album>\n",
    "  </albums>\n",
    "  <singles>\n",
    "    <single>\n",
    "      <author name=\"Roger Waters\">\n",
    "        <firstname>Roger</firstname>\n",
    "        <lastname>Waters</lastname>\n",
    "      </author>\n",
    "      <title released=\"1992\">What God Wants, Part 1</title>\n",
    "    </single>\n",
    "  </singles>\n",
    "</discography>\n",
    "\"\"\")\n",
    "\n",
    "def e(p):\n",
    "    print('{}'.format(p))\n",
    "    return doc.xpath(p)\n",
    "\n",
    "def p(s):\n",
    "    print('  -> {}\\n'.format(s))"
   ]
  },
  {
   "cell_type": "code",
   "execution_count": 3,
   "metadata": {
    "deletable": false
   },
   "outputs": [
    {
     "name": "stdout",
     "output_type": "stream",
     "text": [
      "/child::discography\n",
      "  -> [<Element discography at 0x28a50a6e908>]\n",
      "\n"
     ]
    }
   ],
   "source": [
    "# Jede Zeile ist ein XPath welcher auf dem obigen XML Dokument evaluiert wird. \n",
    "# Das Resultat wird nach Ausführung unten angezeigt.\n",
    "p(e('/child::discography')) # Erklärung: Vom Kontextknoten (Stamm) ausgehend, wird das erset Child-Element gewählt"
   ]
  },
  {
   "cell_type": "code",
   "execution_count": 2,
   "metadata": {
    "deletable": false
   },
   "outputs": [
    {
     "name": "stdout",
     "output_type": "stream",
     "text": [
      "/discography\n",
      "  -> discography\n",
      "\n",
      "/child::*\n",
      "  -> [<Element discography at 0x1b6bbf7fec8>]\n",
      "\n",
      "/discography/*\n",
      "  -> [<Element albums at 0x1b6badd6b88>, <Element singles at 0x1b6bbfae388>]\n",
      "\n",
      "/albums\n",
      "  -> []\n",
      "\n"
     ]
    }
   ],
   "source": [
    "# Hier werden vier XPath evaluiert mit entsprechend vier Resultate\n",
    "p(e('/discography')[0].tag) # Erklärung: Wählt den Kontextknoten selbst an sich aus (self)\n",
    "p(e('/child::*')) # Erklärung: Wählt erstes Kindelement vom Stamm aus, in diesem Fall den Kontextknoten 'discography' selbst\n",
    "p(e('/discography/*')) # Erklärung: Wählt alle Kind-Elemente vom Kontextknoten 'discography' aus\n",
    "p(e('/albums')) # Erklärung: Es wird nichts ausgewählt, da der Weg nicht vollständig angegeben wurde. 'discography/albums/*' wäre der Weg"
   ]
  },
  {
   "cell_type": "code",
   "execution_count": 3,
   "metadata": {
    "deletable": false
   },
   "outputs": [
    {
     "name": "stdout",
     "output_type": "stream",
     "text": [
      "/child::discography/child::albums/child::album\n",
      "  -> [<Element album at 0x1b6bbeea388>, <Element album at 0x1b6bbfae608>]\n",
      "\n",
      "/discography/albums/album\n",
      "  -> [<Element album at 0x1b6bbfae608>, <Element album at 0x1b6bbfae648>]\n",
      "\n",
      "/discography/albums/album/.\n",
      "  -> [<Element album at 0x1b6bbfae608>, <Element album at 0x1b6bbfae648>]\n",
      "\n",
      "/discography/albums/album\n",
      "  -> <Element album at 0x1b6bbf7ff88>\n",
      "\n",
      "/discography/albums/album\n",
      "  -> album\n",
      "\n",
      "/discographie/albums/album\n",
      "  -> []\n",
      "\n"
     ]
    }
   ],
   "source": [
    "p(e('/child::discography/child::albums/child::album'))\n",
    "# Warum ergibt dies das gleiche Resultat wie der vorherige XPath?\n",
    "# Schauen Sie nicht auf die 0x... Nummern.\n",
    "p(e('/discography/albums/album')) # Erklärung: Weil das '/' genauso wie 'child::' das nächste Kind-Element auswählt\n",
    "p(e('/discography/albums/album/.'))\n",
    "p(e('/discography/albums/album')[0])\n",
    "p(e('/discography/albums/album')[1].tag) # Erklärung: '0' wählte alle Elemente aus, '1' nur das Erste. Indexierung in xPath beginnt mit der 1\n",
    "p(e('/discographie/albums/album'))"
   ]
  },
  {
   "cell_type": "code",
   "execution_count": 4,
   "metadata": {
    "deletable": false
   },
   "outputs": [
    {
     "name": "stdout",
     "output_type": "stream",
     "text": [
      "child::singles\n",
      "  -> [<Element singles at 0x1b6bbfae508>]\n",
      "\n",
      "singles\n",
      "  -> [<Element singles at 0x1b6bbfae508>]\n",
      "\n",
      "./singles\n",
      "  -> [<Element singles at 0x1b6bbfae508>]\n",
      "\n",
      "albums/album\n",
      "  -> [<Element album at 0x1b6badd6b88>, <Element album at 0x1b6bbfae508>]\n",
      "\n"
     ]
    }
   ],
   "source": [
    "p(e('child::singles'))\n",
    "p(e('singles'))\n",
    "p(e('./singles')) # Erklärung: der '.' ist die verkürzte Form von 'self::node()' und wählt daher dieselben Singles aus\n",
    "p(e('albums/album'))"
   ]
  },
  {
   "cell_type": "code",
   "execution_count": 5,
   "metadata": {},
   "outputs": [
    {
     "name": "stdout",
     "output_type": "stream",
     "text": [
      "//singles\n",
      "  -> [<Element singles at 0x1b6bbfaed48>]\n",
      "\n",
      "//album\n",
      "  -> [<Element album at 0x1b6bbeea348>, <Element album at 0x1b6bbfaed48>]\n",
      "\n",
      "//day\n",
      "  -> 30\n",
      "\n",
      "//day/text()\n",
      "  -> ['16', '30']\n",
      "\n",
      "//@released\n",
      "  -> ['1973', '1979', '1992']\n",
      "\n",
      "//@*\n",
      "  -> ['1973', '1979', 'Roger Waters', '1992']\n",
      "\n",
      "@*\n",
      "  -> []\n",
      "\n"
     ]
    }
   ],
   "source": [
    "p(e('//singles'))\n",
    "p(e('//album'))\n",
    "p(e('//day')[1].text) # Erklärung: Wählt den zugehörigen Text des ersten Veröffentlichungsdatums aus\n",
    "p(e('//day/text()'))\n",
    "p(e('//@released'))\n",
    "p(e('//@*'))\n",
    "# Inwiefern ist der folgende XPath anders als der vorherige? \n",
    "p(e('@*')) # Erklärung: '//' ist die verkürzte Form von 'descendant-or-self::node()'. Das '//' fehlt hier, weshalb kein vollständig korrekter Pfad ausgewählt werden kann. Die Attribute können somit nicht abgerufen werden"
   ]
  },
  {
   "cell_type": "code",
   "execution_count": 6,
   "metadata": {
    "deletable": false
   },
   "outputs": [
    {
     "name": "stdout",
     "output_type": "stream",
     "text": [
      "descendant::*\n",
      "  -> [<Element albums at 0x1b6bbfae388>, <Element album at 0x1b6bbfaee08>, <Element title at 0x1b6bbfaee48>, <Element label at 0x1b6bbfaee88>, <Element released at 0x1b6bbfaeec8>, <Element day at 0x1b6bbfaef48>, <Element month at 0x1b6bbfaef88>, <Element year at 0x1b6bbfaefc8>, <Element album at 0x1b6bbfb5048>, <Element title at 0x1b6bbfaef08>, <Element label at 0x1b6bbfb5088>, <Element released at 0x1b6bbfb50c8>, <Element day at 0x1b6bbfb5108>, <Element month at 0x1b6bbfb5148>, <Element year at 0x1b6bbfb5188>, <Element singles at 0x1b6bbfb51c8>, <Element single at 0x1b6bbfb5208>, <Element author at 0x1b6bbfb5248>, <Element firstname at 0x1b6bbfb5288>, <Element lastname at 0x1b6bbfb52c8>, <Element title at 0x1b6bbfb5308>]\n",
      "\n",
      "descendant::*/album[1]/title\n",
      "  -> The Dark Side of the Moon\n",
      "\n",
      "descendant::*/album[2]/title/text()\n",
      "  -> ['The Wall']\n",
      "\n",
      "descendant::*/album[2]/title/text()\n",
      "  -> The Wall\n",
      "\n"
     ]
    }
   ],
   "source": [
    "p(e('descendant::*')) # Erklärung: Wählt alle Folge-Elemente des Kontextknotens aus\n",
    "p(e('descendant::*/album[1]/title')[0].text)\n",
    "p(e('descendant::*/album[2]/title/text()'))\n",
    "p(e('descendant::*/album[2]/title/text()')[0]) # Erklärung: Wählt den Text des Titles des 2. Album aus"
   ]
  },
  {
   "cell_type": "code",
   "execution_count": 7,
   "metadata": {
    "deletable": false
   },
   "outputs": [
    {
     "name": "stdout",
     "output_type": "stream",
     "text": [
      "/*/albums/album[1]/title/child::text()\n",
      "  -> ['The Dark Side of the Moon']\n",
      "\n",
      "/descendant::*/album[1]/title/child::text()\n",
      "  -> The Dark Side of the Moon\n",
      "\n",
      "/descendant::*/singles/single[1]/title/text()\n",
      "  -> ['What God Wants, Part 1']\n",
      "\n",
      "/descendant::*/singles/single[2]/title/text()\n",
      "  -> []\n",
      "\n"
     ]
    }
   ],
   "source": [
    "p(e('/*/albums/album[1]/title/child::text()')) # Erklärung: Wählt Albumstitel des ersten Albums aus\n",
    "p(e('/descendant::*/album[1]/title/child::text()')[0]) # Erklärung: 'descendant::*' wählt die nachfolgenden Elemente aus und daraus das erste Album plus Titeltext\n",
    "p(e('/descendant::*/singles/single[1]/title/text()'))\n",
    "p(e('/descendant::*/singles/single[2]/title/text()')) # Erklärung: Es gibt anscheinend nur eine Single, weshalb die Ausgabe leer bleibt"
   ]
  },
  {
   "cell_type": "code",
   "execution_count": 10,
   "metadata": {
    "deletable": false
   },
   "outputs": [
    {
     "name": "stdout",
     "output_type": "stream",
     "text": [
      "/discography/albums/album/.\n",
      "  -> [<Element album at 0x1b6bbfaefc8>, <Element album at 0x1b6bbfaef08>]\n",
      "\n",
      "/discography/albums/album/..\n",
      "  -> [<Element albums at 0x1b6bbfaef08>]\n",
      "\n",
      "/discography/albums/album[1]/title/following-sibling::*\n",
      "  -> [<Element label at 0x1b6bbfaef08>, <Element released at 0x1b6bbfaefc8>]\n",
      "\n",
      "/discography/albums/album[1]/label/following-sibling::*\n",
      "  -> [<Element released at 0x1b6badd6408>]\n",
      "\n",
      "/discography/albums/album[1]/released/preceding-sibling::*\n",
      "  -> [<Element title at 0x1b6badd6408>, <Element label at 0x1b6bbfaef08>]\n",
      "\n",
      "/discography/albums/album[1]/released/preceding-sibling::*/text()\n",
      "  -> ['The Dark Side of the Moon', 'Harvest, EMI']\n",
      "\n",
      "//album[1]/parent::node()/album[2]/title/text()\n",
      "  -> ['The Wall']\n",
      "\n",
      "album[1]/parent::node()/album[2]/title/text()\n",
      "  -> []\n",
      "\n"
     ]
    }
   ],
   "source": [
    "p(e('/discography/albums/album/.'))\n",
    "p(e('/discography/albums/album/..')) # Erklärung: '..' ist die verkürzte Form von 'parent::node()' und wählt somit das Eltern-Element aus\n",
    "p(e('/discography/albums/album[1]/title/following-sibling::*'))\n",
    "p(e('/discography/albums/album[1]/label/following-sibling::*'))\n",
    "p(e('/discography/albums/album[1]/released/preceding-sibling::*'))\n",
    "p(e('/discography/albums/album[1]/released/preceding-sibling::*/text()')) # Erklärung: Durch das '/text()' werden nicht nur die Elemente an sich ausgewählt, sondern auch noch der Text ausgegeben.\n",
    "p(e('//album[1]/parent::node()/album[2]/title/text()')) # Erklärung: 'descendant-or-self::node()' am Anfang sorgt für einen vollständigen Pfad, weshalb im nachfolgenden xPath kein Titeltext ausgewählt werden konnte.\n",
    "p(e('album[1]/parent::node()/album[2]/title/text()'))"
   ]
  },
  {
   "cell_type": "code",
   "execution_count": 11,
   "metadata": {},
   "outputs": [
    {
     "name": "stdout",
     "output_type": "stream",
     "text": [
      "//album/title/text()\n",
      "  -> ['The Dark Side of the Moon', 'The Wall']\n",
      "\n",
      "//album/title/child::text()\n",
      "  -> ['The Dark Side of the Moon', 'The Wall']\n",
      "\n",
      "//album/comment()\n",
      "  -> [<!-- The 26th best-selling album of all time -->, <!-- The 5th best-selling album of all time -->]\n",
      "\n",
      "//album[1]/child::node()\n",
      "  -> ['\\n      ', <!-- The 26th best-selling album of all time -->, '\\n      ', <Element title at 0x1b6bbfaefc8>, '\\n      ', <Element label at 0x1b6bbfaed48>, '\\n      ', <Element released at 0x1b6bbfaef88>, '\\n    ']\n",
      "\n"
     ]
    }
   ],
   "source": [
    "p(e('//album/title/text()'))\n",
    "p(e('//album/title/child::text()'))\n",
    "p(e('//album/comment()'))\n",
    "p(e('//album[1]/child::node()')) # Erklärung: 'child::node()' wählt jeden Knoten aus, der kein Attribut, Namespace oder Dokumenten-Knoten ist. Es werden Arbeitsanweisungen, Kommentare und Text-Knoten ausgewählt"
   ]
  },
  {
   "cell_type": "code",
   "execution_count": 12,
   "metadata": {
    "deletable": false
   },
   "outputs": [
    {
     "name": "stdout",
     "output_type": "stream",
     "text": [
      "/discography/albums/album/title[@released]\n",
      "  -> [<Element title at 0x1b6bbf7ff88>, <Element title at 0x1b6bbfaeb08>]\n",
      "\n",
      "/discography/albums/album/title[@released=\"1979\"]\n",
      "  -> [<Element title at 0x1b6bbf7ff88>]\n",
      "\n",
      "/discography/albums/album/title[@released=\"1979\"]/text()\n",
      "  -> ['The Wall']\n",
      "\n",
      "/discography/albums/album/title[@released=1979]/text()\n",
      "  -> ['The Wall']\n",
      "\n",
      "//album/title[@released=1973]/text() | //album/released[day=30]/../title/text()\n",
      "  -> ['The Dark Side of the Moon', 'The Wall']\n",
      "\n",
      "descendant::*[firstname]/@name\n",
      "  -> ['Roger Waters']\n",
      "\n",
      "descendant::*[firstname][@name=\"Roger Waters\"]/parent::single/title/text()\n",
      "  -> ['What God Wants, Part 1']\n",
      "\n"
     ]
    }
   ],
   "source": [
    "p(e('/discography/albums/album/title[@released]'))\n",
    "p(e('/discography/albums/album/title[@released=\"1979\"]')) # Erklärung: '@released=\"1979\"' ist ein Attribut und nur Alben aus dem Jahr 1979 werden ausgewählt\n",
    "p(e('/discography/albums/album/title[@released=\"1979\"]/text()'))\n",
    "p(e('/discography/albums/album/title[@released=1979]/text()'))\n",
    "p(e('//album/title[@released=1973]/text() | //album/released[day=30]/../title/text()')) # Erklärung: Wählt zunächst Songtitel aus dem Jahr 1979 aus und gibt dazu Alben an, die am 30. veröffentlicht wurden\n",
    "p(e('descendant::*[firstname]/@name'))\n",
    "p(e('descendant::*[firstname][@name=\"Roger Waters\"]/parent::single/title/text()')) # Erklärung: Wählt den Titel des Sängers 'Roger Waters' aus"
   ]
  },
  {
   "cell_type": "code",
   "execution_count": 13,
   "metadata": {
    "deletable": false
   },
   "outputs": [
    {
     "name": "stdout",
     "output_type": "stream",
     "text": [
      "count(albums)\n",
      "  -> 1.0\n",
      "\n",
      "count(albums/album)\n",
      "  -> 2.0\n",
      "\n",
      "//album[position()=1]/title/text()\n",
      "  -> ['The Dark Side of the Moon']\n",
      "\n",
      "//album[1]/title/text()\n",
      "  -> ['The Dark Side of the Moon']\n",
      "\n",
      "//album[position()>1]/title/text()\n",
      "  -> ['The Wall']\n",
      "\n",
      "//album[position()>=1]/title/text()\n",
      "  -> ['The Dark Side of the Moon', 'The Wall']\n",
      "\n",
      "//album[last()]/title/text()\n",
      "  -> ['The Wall']\n",
      "\n",
      "//album[starts-with(title, \"The D\")]/title/text()\n",
      "  -> ['The Dark Side of the Moon']\n",
      "\n",
      "//album[contains(title, \"Wall\")]/title/text()\n",
      "  -> ['The Wall']\n",
      "\n",
      "//album/released[not(year=1979)]/parent::node()/title/text()\n",
      "  -> ['The Dark Side of the Moon']\n",
      "\n"
     ]
    }
   ],
   "source": [
    "p(e('count(albums)'))\n",
    "p(e('count(albums/album)')) # Erklärung: Zählt die Anzahl an Elementen im Element 'album'\n",
    "p(e('//album[position()=1]/title/text()'))\n",
    "p(e('//album[1]/title/text()'))\n",
    "p(e('//album[position()>1]/title/text()')) # Erklärung: Wählt den Albumtitel an Position '>1' aus, also ab dem 2. Album\n",
    "p(e('//album[position()>=1]/title/text()'))\n",
    "p(e('//album[last()]/title/text()'))\n",
    "p(e('//album[starts-with(title, \"The D\")]/title/text()')) # Erklärung: Wählt das Album aus, in dem der Titel mit 'The D' beginnt\n",
    "p(e('//album[contains(title, \"Wall\")]/title/text()'))\n",
    "p(e('//album/released[not(year=1979)]/parent::node()/title/text()')) # Erklärung: Wählt das Album aus, das nicht im Jahr '1979' veröffentlicht wurde"
   ]
  },
  {
   "cell_type": "markdown",
   "metadata": {
    "deletable": false
   },
   "source": [
    "Und zum Schluss, ein Beispiel mit Namensräumen."
   ]
  },
  {
   "cell_type": "code",
   "execution_count": 14,
   "metadata": {},
   "outputs": [
    {
     "name": "stdout",
     "output_type": "stream",
     "text": [
      "[<Element {http://discography.org}discography at 0x1b6bbfae5c8>]\n",
      "[<Element {http://discography.org}discography at 0x1b6bbfae5c8>]\n",
      "[<Element {http://albums.org}albums at 0x1b6bbfba048>]\n",
      "[<Element {http://albums.org}albums at 0x1b6bbfaeac8>]\n"
     ]
    }
   ],
   "source": [
    "from lxml import etree as et\n",
    "\n",
    "d = et.fromstring(\"\"\"\n",
    "<disc:discography xmlns:disc=\"http://discography.org\" xmlns:alb=\"http://albums.org\" xmlns=\"http://default.org\">\n",
    "<alb:albums>\n",
    "<alb:album title=\"The Dark Side of the Moon\" alb:year=\"1973\"/>\n",
    "</alb:albums>\n",
    "</disc:discography>\n",
    "\"\"\")\n",
    "\n",
    "print(d.xpath('/disc:discography', namespaces={'disc': 'http://discography.org'}))\n",
    "print(d.xpath('/*[local-name() = \"discography\"]'))\n",
    "print(d.xpath('/disc:discography/alb:albums', namespaces={'disc': 'http://discography.org', 'alb': 'http://albums.org'}))\n",
    "print(d.xpath('/*[local-name() = \"discography\"]/*[local-name() = \"albums\"]'))"
   ]
  },
  {
   "cell_type": "markdown",
   "metadata": {},
   "source": [
    "Denken Sie sich nun ein eigenes XML Dokument aus und testen Sie Ihre XPath Abfragen."
   ]
  },
  {
   "cell_type": "code",
   "execution_count": 16,
   "metadata": {
    "deletable": false
   },
   "outputs": [
    {
     "ename": "XMLSyntaxError",
     "evalue": "expected '>', line 13, column 1 (<string>, line 13)",
     "output_type": "error",
     "traceback": [
      "Traceback \u001b[1;36m(most recent call last)\u001b[0m:\n",
      "  File \u001b[0;32m\"C:\\Users\\Pascal Wissner\\Anaconda3\\lib\\site-packages\\IPython\\core\\interactiveshell.py\"\u001b[0m, line \u001b[0;32m2910\u001b[0m, in \u001b[0;35mrun_code\u001b[0m\n    exec(code_obj, self.user_global_ns, self.user_ns)\n",
      "  File \u001b[0;32m\"<ipython-input-16-6fc595484329>\"\u001b[0m, line \u001b[0;32m15\u001b[0m, in \u001b[0;35m<module>\u001b[0m\n    </einkaufsliste>\"\"\")\n",
      "  File \u001b[0;32m\"src/lxml/etree.pyx\"\u001b[0m, line \u001b[0;32m3230\u001b[0m, in \u001b[0;35mlxml.etree.fromstring (src\\lxml\\etree.c:81070)\u001b[0m\n",
      "  File \u001b[0;32m\"src/lxml/parser.pxi\"\u001b[0m, line \u001b[0;32m1871\u001b[0m, in \u001b[0;35mlxml.etree._parseMemoryDocument (src\\lxml\\etree.c:121250)\u001b[0m\n",
      "  File \u001b[0;32m\"src/lxml/parser.pxi\"\u001b[0m, line \u001b[0;32m1752\u001b[0m, in \u001b[0;35mlxml.etree._parseDoc (src\\lxml\\etree.c:119804)\u001b[0m\n",
      "  File \u001b[0;32m\"src/lxml/parser.pxi\"\u001b[0m, line \u001b[0;32m1066\u001b[0m, in \u001b[0;35mlxml.etree._BaseParser._parseUnicodeDoc (src\\lxml\\etree.c:113546)\u001b[0m\n",
      "  File \u001b[0;32m\"src/lxml/parser.pxi\"\u001b[0m, line \u001b[0;32m598\u001b[0m, in \u001b[0;35mlxml.etree._ParserContext._handleParseResultDoc (src\\lxml\\etree.c:107738)\u001b[0m\n",
      "  File \u001b[0;32m\"src/lxml/parser.pxi\"\u001b[0m, line \u001b[0;32m709\u001b[0m, in \u001b[0;35mlxml.etree._handleParseResult (src\\lxml\\etree.c:109447)\u001b[0m\n",
      "\u001b[1;36m  File \u001b[1;32m\"src/lxml/parser.pxi\"\u001b[1;36m, line \u001b[1;32m638\u001b[1;36m, in \u001b[1;35mlxml.etree._raiseParseError (src\\lxml\\etree.c:108301)\u001b[1;36m\u001b[0m\n",
      "\u001b[1;36m  File \u001b[1;32m\"<string>\"\u001b[1;36m, line \u001b[1;32m13\u001b[0m\n\u001b[1;31mXMLSyntaxError\u001b[0m\u001b[1;31m:\u001b[0m expected '>', line 13, column 1\n"
     ]
    }
   ],
   "source": [
    "from lxml import etree as et\n",
    "\n",
    "d = et.fromstring(\"\"\"\n",
    "<einkaufsliste>\n",
    "  <lebensmittel>\n",
    "    <essen>\n",
    "        <kaesebroetchen></kaesebroetchen>\n",
    "        <wurstbroetchen></wurstbroetchen>\n",
    "    </essen>\n",
    "    <trinken>\n",
    "        <wasser></wasser>\n",
    "        <apfelsaft></apfelsaft>\n",
    "    </trinken>\n",
    "  </lebensmittel\n",
    "</einkaufsliste>\"\"\")\n",
    "\n",
    "# Meine XPath Abfragen ...       FUNKTIONIERT NICHT?!?!?\n",
    "print(d.xpath('...'))"
   ]
  }
 ],
 "metadata": {
  "kernelspec": {
   "display_name": "Python 3",
   "language": "python",
   "name": "python3"
  },
  "language_info": {
   "codemirror_mode": {
    "name": "ipython",
    "version": 3
   },
   "file_extension": ".py",
   "mimetype": "text/x-python",
   "name": "python",
   "nbconvert_exporter": "python",
   "pygments_lexer": "ipython3",
   "version": "3.6.4"
  }
 },
 "nbformat": 4,
 "nbformat_minor": 2
}
