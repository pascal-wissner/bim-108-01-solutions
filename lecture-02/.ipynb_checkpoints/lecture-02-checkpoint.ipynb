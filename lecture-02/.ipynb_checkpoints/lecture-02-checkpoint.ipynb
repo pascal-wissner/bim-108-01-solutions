{
 "cells": [
  {
   "cell_type": "markdown",
   "metadata": {
    "deletable": false
   },
   "source": [
    "# XML: Fortgeschrittene Themen"
   ]
  },
  {
   "cell_type": "markdown",
   "metadata": {
    "deletable": false
   },
   "source": [
    "In der Vorlesung haben wir einige fortgeschrittene Themen behandelt, wie XML Baumstruktur, Vokabularien mit XML, und XML Programmierung. Hier werden wir diese Themen etwas in der Praxis anschauen."
   ]
  },
  {
   "cell_type": "markdown",
   "metadata": {
    "deletable": false
   },
   "source": [
    "## XML Baumstruktur\n",
    "\n",
    "Da jedes XML Dokument genau ein Wurzelelement (*root element*) hat und Kindelement (*child elements*) entsprechend verschachtelt, kann jedes (wohlgeformte) XML Dokument als Baum dargestellt werden. Probieren Sie dies in dieser Übung. Die Funktion `print_tree` wird Ihnen dabei helfen. Schauen Sie sich das folgende XML Dokument an und schreiben Sie dann Ihr eigenes. Wie verändert sich das Verhalten der `print_tree` Funktion wenn die beiden kommentierten Zeilen ausgeführt werden?"
   ]
  },
  {
   "cell_type": "code",
   "execution_count": 1,
   "metadata": {
    "deletable": false
   },
   "outputs": [],
   "source": [
    "def print_tree(xml):\n",
    "    level = 0\n",
    "    context = et.iterwalk(xml, events=('start', 'end'))\n",
    "    for event, element in context:\n",
    "        if event == 'start':\n",
    "            print('{}> {}'.format('  ' * level, element.tag))\n",
    "#            if not len(element):\n",
    "#                print('{}> {}'.format('  ' * (level + 1), element.text))\n",
    "            level = level + 1\n",
    "        if event == 'end':\n",
    "            level = level - 1"
   ]
  },
  {
   "cell_type": "code",
   "execution_count": 2,
   "metadata": {
    "deletable": false
   },
   "outputs": [
    {
     "name": "stdout",
     "output_type": "stream",
     "text": [
      "> discography\n",
      "  > albums\n",
      "    > album\n",
      "      > title\n",
      "      > released\n",
      "    > album\n",
      "      > title\n",
      "      > released\n"
     ]
    }
   ],
   "source": [
    "from lxml import etree as et\n",
    "\n",
    "doc = \"\"\"<discography><albums>\n",
    "<album><title>The Dark Side of the Moon</title><released>16 March 1973</released></album>\n",
    "<album><title>The Wall</title><released>30 November 1979</released></album>\n",
    "</albums></discography>\n",
    "\"\"\"\n",
    "\n",
    "print_tree(et.fromstring(doc))"
   ]
  },
  {
   "cell_type": "code",
   "execution_count": 3,
   "metadata": {
    "deletable": false
   },
   "outputs": [
    {
     "name": "stdout",
     "output_type": "stream",
     "text": [
      "> universum\n",
      "  > planeten\n",
      "    > planet\n",
      "      > bevoelkerung\n",
      "    > planet\n",
      "      > bevoelkerung\n"
     ]
    }
   ],
   "source": [
    "from lxml import etree as et\n",
    "\n",
    "# My XML document ...\n",
    "doc = \"\"\"<universum><planeten><planet>Mars<bevoelkerung>0 Menschen</bevoelkerung></planet>\n",
    "<planet>Erde<bevoelkerung>7.5 Milliarden Mensschen</bevoelkerung></planet></planeten></universum>\n",
    "\"\"\"\n",
    "\n",
    "print_tree(et.fromstring(doc))"
   ]
  },
  {
   "cell_type": "markdown",
   "metadata": {
    "deletable": false
   },
   "source": [
    "## Vokabularien in XML\n",
    "\n",
    "Spannen Sie mit Ihrem Nachbarn zusammen und legen Sie sich auf ein Themenbereich fest, z.B. Adressen, Bücher, oder Personen. Überlegen Sie sich dann einzeln ein XML Vokabular für den gewählten Themenbereich. Welche Elemente benötigt man um den Themenbereich zu beschreiben? \n",
    "\n",
    "Im folgenden Block schreiben Sie dann ein beispielhaftes XML Dokument. Diskutieren Sie danach mit Ihrem Nachbarn Ihr gewähltes Vokabular und das Beispiel. Bestimmt gibt es Unterschiede! Haben die beiden erstellten Vokabulare unterschiedliche Terme? Wurden diese als *Tag* oder *Attribut* modelliert? \n",
    "\n",
    "Diskutieren Sie mit Ihrem Nachbarn die Vor- und Nachteile der Vokabularien und versuchen Sie sich zu einigen.\n",
    "\n",
    "**Hinweis:** Die Übung können Sie auch von zuhause ausführen, indem Sie mit Kommiliton*innen über Email kommunizieren. Arbeitskollegen sitzen nicht immer im gleichen Raum!"
   ]
  },
  {
   "cell_type": "markdown",
   "metadata": {
    "deletable": false
   },
   "source": [
    "**My vocabulary for familie**\n",
    "\n",
    "<familie>\n",
    "    <grosseltern>\n",
    "        <oma_opa>\n",
    "            <papa></papa>\n",
    "        </oma_opa>\n",
    "        <oma_opa>\n",
    "            <mama></mama>\n",
    "        </oma_opa>\n",
    "    </grosseltern>\n",
    "    <eltern>\n",
    "        <kind1></kind1>\n",
    "        <kind2></kind2>\n",
    "    </eltern>\n",
    "</familie>\n"
   ]
  },
  {
   "cell_type": "markdown",
   "metadata": {
    "deletable": false
   },
   "source": [
    "## XML in der Programmierung\n",
    "\n",
    "XML Daten können programmatisch aus den verschiedesten Sourcen gelesen werden. String Variablen hatten wir in den Übungen schon mehrmals. XML Daten können selbstverständlich auch aus Dateien oder dem Internet gelesen werden. Das folgende Beispiel liest die `example.xml` Datei welche im gleichen Verzeichnis wie dieses Notebook liegt."
   ]
  },
  {
   "cell_type": "code",
   "execution_count": 4,
   "metadata": {
    "deletable": false
   },
   "outputs": [
    {
     "name": "stdout",
     "output_type": "stream",
     "text": [
      "<discography>\n",
      "    <albums>\n",
      "        <album>\n",
      "            <title>The Dark Side of the Moon</title>\n",
      "            <released day=\"16\" month=\"March\" year=\"1973\"/>\n",
      "        </album>\n",
      "        <album>\n",
      "            <title>The Wall</title>\n",
      "            <released>\n",
      "                <day>30</day> \n",
      "                <month>November</month>\n",
      "                <year>1979</year>\n",
      "            </released>\n",
      "        </album>\n",
      "    </albums>\n",
      "</discography>\n",
      "\n"
     ]
    }
   ],
   "source": [
    "from lxml import etree as et\n",
    "\n",
    "doc = et.parse('example.xml')\n",
    "\n",
    "print(et.tostring(doc, pretty_print=True).decode('utf-8'))"
   ]
  },
  {
   "cell_type": "markdown",
   "metadata": {
    "deletable": false
   },
   "source": [
    "In der Vorlesung haben wir gesehen wie man XML auch programmatisch schreiben kann. Probieren Sie es hier aus indem Sie das Beispiel entsprechend dem vorherigen XML Dokument vervollständigen."
   ]
  },
  {
   "cell_type": "code",
   "execution_count": 5,
   "metadata": {
    "deletable": false
   },
   "outputs": [
    {
     "name": "stdout",
     "output_type": "stream",
     "text": [
      "<discography>\n",
      "  <albums>\n",
      "    <album>\n",
      "      <title>The Dark Side of the Moon</title>\n",
      "      <released day=\"16\" month=\"November\" year=\"1979\"/>\n",
      "    </album>\n",
      "  </albums>\n",
      "</discography>\n",
      "\n"
     ]
    }
   ],
   "source": [
    "from lxml import etree as et\n",
    "\n",
    "discography = et.Element('discography')\n",
    "albums = et.SubElement(discography, 'albums')\n",
    "album_1 = et.SubElement(albums, 'album')\n",
    "album_1_title = et.SubElement(album_1, 'title')\n",
    "album_1_title.text = 'The Dark Side of the Moon'\n",
    "album_1_released = et.SubElement(album_1, 'released')\n",
    "album_1_released.set('day', '16')\n",
    "album_1_released.set('month', 'November')\n",
    "album_1_released.set('year', '1979')\n",
    "\n",
    "# Complete the example to match the previous XML document\n",
    "\n",
    "print(et.tostring(discography, pretty_print=True).decode('utf-8'))"
   ]
  },
  {
   "cell_type": "markdown",
   "metadata": {
    "deletable": false
   },
   "source": [
    "Schreiben Sie ihre discographie in eine Datei. Benennen Sie diese `discography.xml`. \n",
    "\n",
    "Schauen Sie im Verzeichnis nach ob die Datei korrekt gespeichert wurde."
   ]
  },
  {
   "cell_type": "code",
   "execution_count": 6,
   "metadata": {
    "deletable": false
   },
   "outputs": [],
   "source": [
    "from lxml import etree as et\n",
    "\n",
    "t = et.ElementTree(discography)\n",
    "# Edit the file name accordingly\n",
    "t.write(file='discography.xml', pretty_print=True)"
   ]
  },
  {
   "cell_type": "markdown",
   "metadata": {
    "deletable": false
   },
   "source": [
    "Im nächsten Beispiel travesieren wir unser XML Dokument rekursiv indem die gefundenen Element expandiert werden."
   ]
  },
  {
   "cell_type": "code",
   "execution_count": 7,
   "metadata": {
    "deletable": false
   },
   "outputs": [
    {
     "name": "stdout",
     "output_type": "stream",
     "text": [
      "albums\n",
      "album\n",
      "title: The Dark Side of the Moon\n",
      "released\n"
     ]
    }
   ],
   "source": [
    "def expand(element):\n",
    "    for child in element:\n",
    "        if len(child) or child.text == None:\n",
    "            print('{}'.format(child.tag))\n",
    "        else:\n",
    "            print('{}: {}'.format(child.tag, child.text))\n",
    "        expand(child)\n",
    "        \n",
    "expand(discography)"
   ]
  },
  {
   "cell_type": "markdown",
   "metadata": {
    "deletable": false
   },
   "source": [
    "Das letzte Beispiel liest nun ein XML Dokument von einem Web Service und sucht nach einem bestimmten Element, wobei der Textinhalt ausgeschrieben wird. Dies ist die DOI `10.1594/PANGAEA.858171`.\n",
    "\n",
    "Was geschieht in diesem Programmcode eigentlich? Benutzen Sie `print()` um das XML Dokument anzuschauen.\n",
    "\n",
    "Was ist eine DOI? Fragen Sie Ihren Nachbarn oder suchen Sie im Internet danach.\n",
    "\n",
    "Was ist [PANGAEA](https://pangaea.de)? Suchen Sie nach der DOI in PANGAEA. Was erhalten Sie?\n",
    "\n",
    "Bilden Sie die `url` so, dass Sie diese in einem Browser ausführen können. Was erhalten Sie? Schauen Sie sich auch den `source` der Seite an."
   ]
  },
  {
   "cell_type": "code",
   "execution_count": 9,
   "metadata": {
    "deletable": false
   },
   "outputs": [
    {
     "name": "stdout",
     "output_type": "stream",
     "text": [
      "<OAI-PMH xmlns=\"http://www.openarchives.org/OAI/2.0/\" xmlns:xsi=\"http://www.w3.org/2001/XMLSchema-instance\" xsi:schemaLocation=\"http://www.openarchives.org/OAI/2.0/ http://www.openarchives.org/OAI/2.0/OAI-PMH.xsd\">\n",
      "  <responseDate>2018-03-12T16:12:03Z</responseDate>\n",
      "  <request verb=\"GetRecord\" metadataPrefix=\"datacite3\" identifier=\"oai:pangaea.de:doi:10.1594/PANGAEA.858171\">http://ws.pangaea.de/oai/provider</request>\n",
      "  <GetRecord>\n",
      "    <record>\n",
      "      <header>\n",
      "        <identifier>oai:pangaea.de:doi:10.1594/PANGAEA.858171</identifier>\n",
      "        <datestamp>2017-08-05T11:05:08Z</datestamp>\n",
      "        <setSpec>citable</setSpec>\n",
      "        <setSpec>citableWithChilds</setSpec>\n",
      "        <setSpec>supplement</setSpec>\n",
      "      </header>\n",
      "      <metadata>\n",
      "        <resource xmlns=\"http://datacite.org/schema/kernel-3\" xmlns:xsi=\"http://www.w3.org/2001/XMLSchema-instance\" xsi:schemaLocation=\"http://datacite.org/schema/kernel-3 http://schema.datacite.org/meta/kernel-3/metadata.xsd\">\n",
      "          <identifier identifierType=\"DOI\">10.1594/PANGAEA.858171</identifier>\n",
      "          <creators>\n",
      "            <creator>\n",
      "              <creatorName>Lefebvre, Alice</creatorName>\n",
      "              <nameIdentifier schemeURI=\"http://orcid.org\" nameIdentifierScheme=\"ORCID\">0000-0002-9234-8279</nameIdentifier>\n",
      "            </creator>\n",
      "            <creator>\n",
      "              <creatorName>Winter, Christian</creatorName>\n",
      "              <nameIdentifier schemeURI=\"http://orcid.org\" nameIdentifierScheme=\"ORCID\">0000-0002-8043-2131</nameIdentifier>\n",
      "            </creator>\n",
      "          </creators>\n",
      "          <titles>\n",
      "            <title>Predicting bed form roughness: the influence of lee side angle, supplement to: Lefebvre, Alice; Winter, Christian (2016): Predicting bed form roughness: the influence of lee side angle. Geo-Marine Letters</title>\n",
      "          </titles>\n",
      "          <publisher>PANGAEA - Data Publisher for Earth &amp; Environmental Science</publisher>\n",
      "          <publicationYear>2016</publicationYear>\n",
      "          <subjects>\n",
      "            <subject subjectScheme=\"targetCatalogue\">GetInfo</subject>\n",
      "            <subject subjectScheme=\"Parameter\">Experiment</subject>\n",
      "            <subject subjectScheme=\"Parameter\">Bedform length</subject>\n",
      "            <subject subjectScheme=\"Parameter\">Bedform height</subject>\n",
      "            <subject subjectScheme=\"Parameter\">DEPTH, water, experiment</subject>\n",
      "            <subject subjectScheme=\"Parameter\">Angle</subject>\n",
      "            <subject subjectScheme=\"Parameter\">Zone</subject>\n",
      "            <subject subjectScheme=\"Parameter\">Factor</subject>\n",
      "            <subject subjectScheme=\"Parameter\">Ratio</subject>\n",
      "            <subject subjectScheme=\"Method\">Delft3D modeling system</subject>\n",
      "            <subject subjectScheme=\"Project\">Center for Marine Environmental Sciences (MARUM)</subject>\n",
      "          </subjects>\n",
      "          <language>eng</language>\n",
      "          <resourceType resourceTypeGeneral=\"Dataset\">Supplementary Dataset</resourceType>\n",
      "          <relatedIdentifiers>\n",
      "            <relatedIdentifier relatedIdentifierType=\"DOI\" relationType=\"IsSupplementTo\">10.1007/s00367-016-0436-8</relatedIdentifier>\n",
      "          </relatedIdentifiers>\n",
      "          <sizes>\n",
      "            <size>756 data points</size>\n",
      "          </sizes>\n",
      "          <formats>\n",
      "            <format>text/tab-separated-values</format>\n",
      "          </formats>\n",
      "          <rightsList>\n",
      "            <rights rightsURI=\"http://creativecommons.org/licenses/by/3.0/\">Creative Commons Attribution 3.0 Unported (CC-BY)</rights>\n",
      "          </rightsList>\n",
      "          <descriptions>\n",
      "            <description descriptionType=\"Abstract\">Flow transverse bedforms (ripples and dunes) are ubiquitous in rivers and coastal seas. Local hydrodynamics and transport conditions depend on the size and geometry of these bedforms, as they constitute roughness elements at the bed. Bedform influence on flow energy must be considered for the understanding of flow dynamics, and in the development and application of numerical models. Common estimations or predictors of form roughness (friction factors) are based mostly on data of steep bedforms (with angle-of-repose lee slopes), and described by highly simplified bedform dimensions (heights and lengths). However, natural bedforms often are not steep, and differ in form and hydraulic effect relative to idealised bedforms. Based on systematic numerical model experiments, this study shows how the hydraulic effect of bedforms depends on the flow structure behind bedforms, which is determined by the bedform lee side angle, aspect ratio and relative height. Simulations reveal that flow separation behind bedform crests and, thus, a hydraulic effect is induced at lee side angles steeper than 11 to 18&#176; depending on relative height, and that a fully developed flow separation zone exists only over bedforms with a lee side angle steeper than 24&#176;. Furthermore, the hydraulic effect of bedforms with varying lee side angle is evaluated and a reduction function to common friction factors is proposed. A function is also developed for the Nikuradse roughness (k s), and a new equation is proposed which directly relates k s to bedform relative height, aspect ratio and lee side angle.</description>\n",
      "          </descriptions>\n",
      "        </resource>\n",
      "      </metadata>\n",
      "    </record>\n",
      "  </GetRecord>\n",
      "</OAI-PMH>\n",
      "\n",
      "10.1594/PANGAEA.858171\n"
     ]
    }
   ],
   "source": [
    "import requests\n",
    "from lxml import etree as et\n",
    "\n",
    "url = '{}?verb={}&metadataPrefix={}&identifier={}'.format(\n",
    "    'http://ws.pangaea.de/oai/provider',\n",
    "    'GetRecord', \n",
    "    'datacite3', \n",
    "    'oai:pangaea.de:doi:10.1594/PANGAEA.858171'\n",
    ")\n",
    "    \n",
    "r = requests.get(url)\n",
    "\n",
    "x = et.XML(bytes(bytearray(r.text, 'utf-8')))\n",
    "\n",
    "print(et.tostring(x, pretty_print=True).decode('utf-8'))\n",
    "\n",
    "# Was ist eine DOI? Antwort: Digital Object Identifier: ein eindeutiger und dauerhafter digitaler Identifikator für physische, digitale oder abstrakte Objekte. Vor allem für Online-Artikel wissenschaftlicher Fachzeitschriften.\n",
    "\n",
    "# Was ist PANGAEA? Antwort: PANGAEA - Data Publisher for Earth & Environmental Science\n",
    "\n",
    "# Die DOI in PANGEA? Antwort: Lefebvre, Alice; Winter, Christian (2016): Predicting bed form roughness: the influence of lee side angle.\n",
    "\n",
    "# Die URL? Antwort: https://doi.pangaea.de/10.1594/PANGAEA.858171 -> Download eines Datasets möglich \n",
    "\n",
    "print(x.find('.//{http://datacite.org/schema/kernel-3}identifier[@identifierType=\"DOI\"]').text)"
   ]
  }
 ],
 "metadata": {
  "kernelspec": {
   "display_name": "Python 3",
   "language": "python",
   "name": "python3"
  },
  "language_info": {
   "codemirror_mode": {
    "name": "ipython",
    "version": 3
   },
   "file_extension": ".py",
   "mimetype": "text/x-python",
   "name": "python",
   "nbconvert_exporter": "python",
   "pygments_lexer": "ipython3",
   "version": "3.6.4"
  }
 },
 "nbformat": 4,
 "nbformat_minor": 2
}
